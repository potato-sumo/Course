{
 "cells": [
  {
   "cell_type": "markdown",
   "id": "0432dc22-22d6-45e9-a548-8d5f4da373e7",
   "metadata": {},
   "source": [
    "# Data Science Tools and Ecosystem"
   ]
  },
  {
   "cell_type": "markdown",
   "id": "43613cef-0091-4c43-8f0a-0a8f618429cf",
   "metadata": {},
   "source": [
    "In this notebook, Data Science Tools and Ecosystem are summarized"
   ]
  },
  {
   "cell_type": "markdown",
   "id": "6ea76bdd-125c-454e-bec1-60c655ce92d2",
   "metadata": {},
   "source": [
    "**Objectives:**\n",
    "- Data Science languages\n",
    "- Libraries of data scientists\n",
    "- Data science tools\n",
    "- Arithmatic Expressions"
   ]
  },
  {
   "cell_type": "markdown",
   "id": "46063042-14c1-4b14-8ca6-7dd6a7300315",
   "metadata": {},
   "source": [
    "Some of the popular languages that Data Scientists use are:\n",
    "1. Python\n",
    "2. R\n",
    "3. SQL"
   ]
  },
  {
   "cell_type": "markdown",
   "id": "9dc602a8-fb3c-4e82-9d46-4189748db354",
   "metadata": {},
   "source": [
    "Some of the commonly used libraries used by Data Scientists include:\n",
    "1. Matplotlib\n",
    "2. Pandas\n",
    "3. Numpy\n"
   ]
  },
  {
   "cell_type": "markdown",
   "id": "c570254b-4eb6-4db7-812f-bf03c7ad1071",
   "metadata": {},
   "source": [
    "|Data Science Tools|\n",
    "|----|\n",
    "|Jupyter Notebooks|\n",
    "|R Studio|\n",
    "|Github|"
   ]
  },
  {
   "cell_type": "markdown",
   "id": "976bca5b-1d68-47f8-bcec-2271fff8be08",
   "metadata": {},
   "source": [
    "### Below are a few examples of evaluating arithmetic expressions in Python\n",
    "\n"
   ]
  },
  {
   "cell_type": "code",
   "execution_count": 2,
   "id": "82562036-7ce8-42f0-87d3-729ec0f08084",
   "metadata": {},
   "outputs": [
    {
     "data": {
      "text/plain": [
       "17"
      ]
     },
     "execution_count": 2,
     "metadata": {},
     "output_type": "execute_result"
    }
   ],
   "source": [
    "#This a simple arithmetic expression to mutiply then add integers\n",
    "(3*4)+5\n"
   ]
  },
  {
   "cell_type": "code",
   "execution_count": 3,
   "id": "59326404-86ff-4dc4-aec8-02ffb2161807",
   "metadata": {},
   "outputs": [
    {
     "data": {
      "text/plain": [
       "3.3333333333333335"
      ]
     },
     "execution_count": 3,
     "metadata": {},
     "output_type": "execute_result"
    }
   ],
   "source": [
    "#This will convert 200 minutes to hours by diving by 60\n",
    "200/60\n"
   ]
  },
  {
   "cell_type": "markdown",
   "id": "757ddfdf-417e-423e-905a-651af10eb7f4",
   "metadata": {},
   "source": [
    "## Author\n",
    "Eric"
   ]
  },
  {
   "cell_type": "code",
   "execution_count": null,
   "id": "54bed809-22c5-4192-95fe-114b84eb582b",
   "metadata": {},
   "outputs": [],
   "source": []
  }
 ],
 "metadata": {
  "kernelspec": {
   "display_name": "Python 3 (ipykernel)",
   "language": "python",
   "name": "python3"
  },
  "language_info": {
   "codemirror_mode": {
    "name": "ipython",
    "version": 3
   },
   "file_extension": ".py",
   "mimetype": "text/x-python",
   "name": "python",
   "nbconvert_exporter": "python",
   "pygments_lexer": "ipython3",
   "version": "3.12.7"
  }
 },
 "nbformat": 4,
 "nbformat_minor": 5
}
